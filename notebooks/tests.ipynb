{
 "cells": [
  {
   "cell_type": "code",
   "execution_count": null,
   "metadata": {},
   "outputs": [],
   "source": [
    "%load_ext autoreload\n",
    "%autoreload 2\n",
    "import sys\n",
    "sys.path.insert(0,'../')\n",
    "\n",
    "# Export cells\n",
    "#!python notebook2script.py tests.ipynb -out-folder=../pyvesto"
   ]
  },
  {
   "cell_type": "code",
   "execution_count": null,
   "metadata": {},
   "outputs": [],
   "source": [
    "# Compare graphs\n",
    "#export tests.py\n",
    "\n",
    "def compare_graphs(ips1, edges1, ips2, edges2):\n",
    "    \n",
    "    diff_nodes = []\n",
    "    for ip_idx, (ip1, ip2) in enumerate(zip(ips1, ips2)):    \n",
    "        if hash(tuple(sorted(ip1.pixels)))!=hash(tuple(sorted(ip2.pixels))):\n",
    "            diff_nodes.append(ip_idx)\n",
    "            \n",
    "    diff_edges = []\n",
    "    for edge_idx, (edge1, edge2) in enumerate(zip(edges1, edges2)):    \n",
    "        if hash(tuple(sorted(edge1[2])))!=hash(tuple(sorted(edge2[2]))):\n",
    "            diff_edges.append(ip_idx)\n",
    "            \n",
    "    return diff_nodes, diff_edges\n",
    "\n",
    "def compare_graphs_igraph(ips, edges, graph):\n",
    "    \n",
    "    diff_nodes = []\n",
    "    for ip_idx, (ip, v) in enumerate(zip(ips, graph.vs)):    \n",
    "        if hash(tuple(sorted(ip.pixels)))!=hash(tuple(sorted(v['pixels']))):\n",
    "            diff_nodes.append(ip_idx)\n",
    "            \n",
    "    diff_edges = []\n",
    "    for edge_idx, (edge, e) in enumerate(zip(edges, graph.es)):    \n",
    "        if hash(tuple(sorted(edge[2])))!=hash(tuple(sorted(map(tuple, e['path'])))):\n",
    "            diff_edges.append(edge_idx)\n",
    "            \n",
    "    return diff_nodes, diff_edges\n",
    "\n",
    "def compare_graphs_edges(graph1, graph2, edge_att):\n",
    "    \n",
    "    edges1 = graph1.get_edgelist()\n",
    "    nodes1, nodes2 = zip(*edges1)\n",
    "    edges1 = zip(nodes1, nodes2, graph1.es[edge_att])\n",
    "    edges2 = graph2.get_edgelist()\n",
    "    nodes1, nodes2 = zip(*edges2)\n",
    "    edges2 = zip(nodes1, nodes2, graph2.es[edge_att])\n",
    "\n",
    "    edges1 = sorted(edges1)\n",
    "    edges2 = sorted(edges2)\n",
    "\n",
    "    for idx, (edge1, edge2) in enumerate(zip(edges1, edges2)):\n",
    "        #if tuple(sorted(map(tuple, edge1[2])))!=tuple(sorted(map(tuple, edge2[2]))):\n",
    "        #if edge1[1]!=edge2[1]:\n",
    "        if abs(edge1[2]-edge2[2])>1e-5:\n",
    "            print(f'Edges ({edge1[0]},{edge1[1]}) are not equal')"
   ]
  }
 ],
 "metadata": {
  "kernelspec": {
   "display_name": "Python 3",
   "language": "python",
   "name": "python3"
  },
  "language_info": {
   "codemirror_mode": {
    "name": "ipython",
    "version": 3
   },
   "file_extension": ".py",
   "mimetype": "text/x-python",
   "name": "python",
   "nbconvert_exporter": "python",
   "pygments_lexer": "ipython3",
   "version": "3.7.1"
  },
  "varInspector": {
   "cols": {
    "lenName": 16,
    "lenType": 16,
    "lenVar": 40
   },
   "kernels_config": {
    "python": {
     "delete_cmd_postfix": "",
     "delete_cmd_prefix": "del ",
     "library": "var_list.py",
     "varRefreshCmd": "print(var_dic_list())"
    },
    "r": {
     "delete_cmd_postfix": ") ",
     "delete_cmd_prefix": "rm(",
     "library": "var_list.r",
     "varRefreshCmd": "cat(var_dic_list()) "
    }
   },
   "types_to_exclude": [
    "module",
    "function",
    "builtin_function_or_method",
    "instance",
    "_Feature"
   ],
   "window_display": false
  }
 },
 "nbformat": 4,
 "nbformat_minor": 4
}
