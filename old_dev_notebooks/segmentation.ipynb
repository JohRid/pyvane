{
 "cells": [
  {
   "cell_type": "code",
   "execution_count": 1,
   "metadata": {},
   "outputs": [
    {
     "name": "stdout",
     "output_type": "stream",
     "text": [
      "Converted segmentation.py to ../pyvesto/segmentation.py\r\n"
     ]
    }
   ],
   "source": [
    "%load_ext autoreload\n",
    "%autoreload 2\n",
    "import sys\n",
    "sys.path.insert(0,'../')\n",
    "\n",
    "# Export cells\n",
    "!python notebook2script.py segmentation.ipynb -out-folder=../pyvesto"
   ]
  },
  {
   "cell_type": "code",
   "execution_count": 2,
   "metadata": {},
   "outputs": [
    {
     "name": "stderr",
     "output_type": "stream",
     "text": [
      "E:\\Dropbox\\codigos\\tifffile_old.py:285: UserWarning: ImportError: No module named '_tifffile'. Loading of some compressed images will be very slow. Tifffile.c can be obtained at http://www.lfd.uci.edu/~gohlke/\n",
      "  \"ImportError: No module named '_tifffile'. \"\n"
     ]
    }
   ],
   "source": [
    "# Segmentation\n",
    "#export segmentation.py\n",
    "\"\"\"Blood vessel segmentation.\"\"\"\n",
    "\n",
    "import scipy.ndimage as ndi\n",
    "import numpy as np\n",
    "from pyvesto.image import Image\n",
    "import pyvesto.util as util\n",
    "\n",
    "def vessel_segmentation(img, threshold, sigma=None, radius=40, comp_size=500):\n",
    "    \"\"\"Blood vessel segmentation using adaptive thresholding. In short terms, for each\n",
    "    pixel, if img[pixel]-avg(img[window])>threshold the pixel is marked as blood vessel, \n",
    "    where window is a region centered at the pixel. The function also removes connected \n",
    "    components smaller than `comp_size`.\n",
    "\n",
    "    Parameters\n",
    "    ----------\n",
    "    img : Image\n",
    "        Image to be segmented. Can be 2D or 3D.\n",
    "    threshold : float\n",
    "        Pixels with values larger than avg(img[window])+threshold are blood vessel candidates, where \n",
    "        window is a region centered at the pixel.\n",
    "    sigma : list of float, optional\n",
    "        Gaussian standard deviations for smoothing the image before thresholding. The values should\n",
    "        be given as physical units (e.g., micrometers). If None, unitary values are used.\n",
    "    radius : int\n",
    "        Window size to use for intensity averaging. Since a Gaussian is used, this is actually \n",
    "        2x the standard deviation of the Gaussian used for averaging pixel intensities. Note\n",
    "        that this Gaussian is different than the one defined by parameter `sigma`. The value\n",
    "        is in pixels.\n",
    "    comp_size : int\n",
    "        Connected components smaller than `comp_size` are removed from the image.\n",
    "\n",
    "    Returns\n",
    "    -------\n",
    "    Image\n",
    "        A binary image containing segmented blood vessels.\n",
    "    \"\"\"\n",
    "    \n",
    "    ndim = img.ndim\n",
    "    \n",
    "    if sigma is None:\n",
    "        sigma = [1.]*ndim\n",
    "    sigma = np.array(sigma)\n",
    "    \n",
    "    img_data = img.data\n",
    "    \n",
    "    if img_data.dtype!=np.float:\n",
    "        img_data = img_data.astype(np.float)\n",
    "\n",
    "    pix_size = np.array(img.pix_size)\n",
    "    img_data_diffused = ndi.gaussian_filter(img_data, sigma=sigma/pix_size)\n",
    "    \n",
    "    if ndim==2:\n",
    "        img_final = _vessel_segmentation_2d(img_data_diffused, threshold, radius, comp_size)\n",
    "    elif ndim==3:\n",
    "        img_final = _vessel_segmentation_3d(img_data_diffused, threshold, radius, comp_size)\n",
    "\n",
    "    return Image(img_final.astype(np.uint8), img.path, pix_size=img.pix_size)\n",
    "\n",
    "def _vessel_segmentation_2d(img_data, threshold, radius=40, comp_size=500):\n",
    "    \"\"\"Blood vessel segmentation of a 2D image. See function `vessel_segmentation` for details.\n",
    "    \"\"\"\n",
    "    \n",
    "    if img_data.dtype!=np.float:\n",
    "        img_data = img_data.astype(np.float)    \n",
    "    \n",
    "    img_bin = adaptive_thresholding(img_data, threshold, radius)\n",
    "    img_final = util.remove_small_comp(img_bin, comp_size)\n",
    "\n",
    "    return img_final\n",
    "\n",
    "def _vessel_segmentation_3d(img_data, threshold, radius=40, comp_size=500):\n",
    "    \"\"\"Blood vessel segmentation of a 3D image. See function `vessel_segmentation` for details.\n",
    "    \"\"\"\n",
    "    \n",
    "    if img_data.dtype!=np.float:\n",
    "        img_data = img_data.astype(np.float)        \n",
    "\n",
    "    img_bin = np.zeros_like(img_data, dtype=np.uint8)\n",
    "    for idx in range(img_data.shape[0]):\n",
    "        img_bin[idx] = adaptive_thresholding(img_data[idx], threshold, radius)\n",
    "\n",
    "    img_bin_comp = util.remove_small_comp(img_bin, comp_size)\n",
    "\n",
    "    img_lab, num_comp = ndi.label(1-img_bin_comp)\n",
    "    tam_comp = ndi.sum(1-img_bin_comp, labels=img_lab, index=range(1,num_comp+1))\n",
    "    ind_background = np.argmax(tam_comp) + 1\n",
    "    img_final = img_lab != ind_background\n",
    "\n",
    "    return img_final\n",
    "\n",
    "def adaptive_thresholding(img_data, threshold, radius):\n",
    "    \"\"\"Segmentation using adaptive thresholding of a bright object on a dark background. In short \n",
    "    terms, for each pixel, if img_data[pixel]-avg(img_data[window])>threshold the pixel is marked \n",
    "    as belonging to the object, where window is a region centered at the pixel. \n",
    "\n",
    "    Parameters\n",
    "    ----------\n",
    "    img_data : ndarray\n",
    "        Image to be thresholded. Must be 2D.\n",
    "    threshold : float\n",
    "        Threshold to decide if a pixel belongs to the object.\n",
    "    radius : int\n",
    "        Window size to use for intensity averaging. Since a Gaussian is used, this is actually \n",
    "        2x the standard deviation of the Gaussian used for averaging pixel intensities. \n",
    "\n",
    "    Returns\n",
    "    -------\n",
    "    img_bin : ndarray\n",
    "        The resulting binary image.\n",
    "    \"\"\"\n",
    "    \n",
    "    if img_data.dtype!=np.float:\n",
    "        img_data = img_data.astype(np.float)    \n",
    "    \n",
    "    img_blurred = ndi.gaussian_filter(img_data, sigma=radius/2.)\n",
    "    img_corr = img_data - img_blurred\n",
    "    img_bin = img_corr > threshold\n",
    "    \n",
    "    return img_bin"
   ]
  },
  {
   "cell_type": "code",
   "execution_count": null,
   "metadata": {},
   "outputs": [],
   "source": []
  }
 ],
 "metadata": {
  "kernelspec": {
   "display_name": "Python 3",
   "language": "python",
   "name": "python3"
  },
  "language_info": {
   "codemirror_mode": {
    "name": "ipython",
    "version": 3
   },
   "file_extension": ".py",
   "mimetype": "text/x-python",
   "name": "python",
   "nbconvert_exporter": "python",
   "pygments_lexer": "ipython3",
   "version": "3.7.1"
  },
  "varInspector": {
   "cols": {
    "lenName": 16,
    "lenType": 16,
    "lenVar": 40
   },
   "kernels_config": {
    "python": {
     "delete_cmd_postfix": "",
     "delete_cmd_prefix": "del ",
     "library": "var_list.py",
     "varRefreshCmd": "print(var_dic_list())"
    },
    "r": {
     "delete_cmd_postfix": ") ",
     "delete_cmd_prefix": "rm(",
     "library": "var_list.r",
     "varRefreshCmd": "cat(var_dic_list()) "
    }
   },
   "types_to_exclude": [
    "module",
    "function",
    "builtin_function_or_method",
    "instance",
    "_Feature"
   ],
   "window_display": false
  }
 },
 "nbformat": 4,
 "nbformat_minor": 4
}
