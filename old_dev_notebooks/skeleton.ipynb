{
 "cells": [
  {
   "cell_type": "code",
   "execution_count": 3,
   "metadata": {},
   "outputs": [
    {
     "name": "stdout",
     "output_type": "stream",
     "text": [
      "The autoreload extension is already loaded. To reload it, use:\n",
      "  %reload_ext autoreload\n",
      "Converted skeleton.py to ../pyvesto/skeleton.py\r\n"
     ]
    }
   ],
   "source": [
    "%load_ext autoreload\n",
    "%autoreload 2\n",
    "import sys\n",
    "sys.path.insert(0,'../')\n",
    "\n",
    "# Export cells\n",
    "!python notebook2script.py skeleton.ipynb -out-folder=../pyvesto"
   ]
  },
  {
   "cell_type": "code",
   "execution_count": 9,
   "metadata": {},
   "outputs": [],
   "source": [
    "# Skeleton\n",
    "#export skeleton.py\n",
    "\"\"\"Wrapper function around compiled library for skeletonization.\"\"\"\n",
    "\n",
    "import numpy as np\n",
    "import ctypes as ct\n",
    "from pyvesto.image import Image\n",
    "\n",
    "try:\n",
    "    libskeleton = ct.CDLL('./libskeleton.so') \n",
    "except Exception:\n",
    "    print('Could not load skeleton library. Unable to calculate skeletons.')\n",
    "\n",
    "def skeletonize(img_bin, num_threads=1, verbosity=0):\n",
    "    \"\"\"Generate the skeleton of binary image `img_bin` using the method published in [1]. The\n",
    "    input image can be 2D or 3D.\n",
    "\n",
    "    Parameters\n",
    "    ----------\n",
    "    img_bin : Image\n",
    "        Binary image. Must have only values 0 and 1.\n",
    "    num_threads : int\n",
    "        Number of threads to use for calculating the skeleton.\n",
    "    verbosity : int\n",
    "        Verbosity level of the method. If 0, nothing is printed. If 1, the current iteration \n",
    "        index is printed. If larger than 1, saves an image with name temp.tif containing the \n",
    "        current skeleton each `verbosity` iterations. In some systems and terminals the values \n",
    "        might not be printed.\n",
    "        \n",
    "    Returns\n",
    "    -------\n",
    "    img_res : Image\n",
    "        A binary image containing the skeleton.\n",
    "        \n",
    "    [1] Palàgyi, K. and Kuba, A. (1998). A 3D 6-subiteration thinning algorithm for\n",
    "    extracting medial lines. Pattern Recognition Letters 19, 613–627.\n",
    "    \"\"\"\n",
    "    \n",
    "    if tuple(img_bin.unique()) != (0, 1):\n",
    "        raise ValueError('Image must only have values 0 and 1')\n",
    "        \n",
    "    if img_bin.ndim==2:\n",
    "        img_data_2d = img_bin.data\n",
    "        img_data = np.zeros((3, img_data_2d.shape[0], img_data_2d.shape[1]))\n",
    "        img_data[1] = img_data_2d\n",
    "    else:\n",
    "        img_data = img_bin.data\n",
    "        \n",
    "    num_threads = int(num_threads)\n",
    "\n",
    "    img_data = np.ascontiguousarray(img_data, dtype=np.uint16)\n",
    "\n",
    "    size_z, size_x, size_y = img_data.shape\n",
    "    size_z, size_x, size_y = int(size_z), int(size_x), int(size_y)\n",
    "\n",
    "    img_data_res = np.zeros([size_z, size_x, size_y], dtype=np.uint16)\n",
    "\n",
    "    libskeleton.skel_interface(img_data.ctypes.data_as(ct.POINTER(ct.c_ushort)), \n",
    "                      img_data_res.ctypes.data_as(ct.POINTER(ct.c_ushort)), \n",
    "                      size_z, size_x, size_y, num_threads, verbosity)\n",
    "    \n",
    "    if img_bin.ndim==2:\n",
    "        img_data_res = img_data_res[1]\n",
    "    \n",
    "    img_res = Image(img_data_res.astype(np.uint8), img_bin.path, pix_size=img_bin.pix_size)\n",
    "\n",
    "    return img_res"
   ]
  },
  {
   "cell_type": "code",
   "execution_count": null,
   "metadata": {},
   "outputs": [],
   "source": []
  }
 ],
 "metadata": {
  "kernelspec": {
   "display_name": "Python 3",
   "language": "python",
   "name": "python3"
  },
  "language_info": {
   "codemirror_mode": {
    "name": "ipython",
    "version": 3
   },
   "file_extension": ".py",
   "mimetype": "text/x-python",
   "name": "python",
   "nbconvert_exporter": "python",
   "pygments_lexer": "ipython3",
   "version": "3.7.1"
  },
  "varInspector": {
   "cols": {
    "lenName": 16,
    "lenType": 16,
    "lenVar": 40
   },
   "kernels_config": {
    "python": {
     "delete_cmd_postfix": "",
     "delete_cmd_prefix": "del ",
     "library": "var_list.py",
     "varRefreshCmd": "print(var_dic_list())"
    },
    "r": {
     "delete_cmd_postfix": ") ",
     "delete_cmd_prefix": "rm(",
     "library": "var_list.r",
     "varRefreshCmd": "cat(var_dic_list()) "
    }
   },
   "types_to_exclude": [
    "module",
    "function",
    "builtin_function_or_method",
    "instance",
    "_Feature"
   ],
   "window_display": false
  }
 },
 "nbformat": 4,
 "nbformat_minor": 4
}
